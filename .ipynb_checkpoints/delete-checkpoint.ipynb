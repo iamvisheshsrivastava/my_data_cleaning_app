{
 "cells": [
  {
   "cell_type": "code",
   "execution_count": null,
   "id": "26a3cc8a",
   "metadata": {
    "vscode": {
     "languageId": "plaintext"
    }
   },
   "outputs": [],
   "source": [
    "pip install dtale"
   ]
  }
 ],
 "metadata": {
  "language_info": {
   "name": "python"
  }
 },
 "nbformat": 4,
 "nbformat_minor": 5
}

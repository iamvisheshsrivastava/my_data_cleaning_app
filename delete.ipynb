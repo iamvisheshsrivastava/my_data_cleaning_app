{
 "cells": [
  {
   "cell_type": "code",
   "execution_count": 2,
   "id": "26a3cc8a",
   "metadata": {
    "vscode": {
     "languageId": "plaintext"
    }
   },
   "outputs": [
    {
     "name": "stdout",
     "output_type": "stream",
     "text": [
      "Requirement already satisfied: dtale in c:\\users\\sriva\\desktop\\aicuflow\\my_data_cleaning_app\\datacleaning\\lib\\site-packages (3.18.2)\n",
      "Requirement already satisfied: lz4 in c:\\users\\sriva\\desktop\\aicuflow\\my_data_cleaning_app\\datacleaning\\lib\\site-packages (from dtale) (4.4.4)\n",
      "Requirement already satisfied: beautifulsoup4!=4.13.0b2 in c:\\users\\sriva\\desktop\\aicuflow\\my_data_cleaning_app\\datacleaning\\lib\\site-packages (from dtale) (4.13.4)\n",
      "Requirement already satisfied: certifi in c:\\users\\sriva\\desktop\\aicuflow\\my_data_cleaning_app\\datacleaning\\lib\\site-packages (from dtale) (2025.7.14)\n",
      "Requirement already satisfied: cycler in c:\\users\\sriva\\desktop\\aicuflow\\my_data_cleaning_app\\datacleaning\\lib\\site-packages (from dtale) (0.12.1)\n",
      "Requirement already satisfied: dash<=2.18.2 in c:\\users\\sriva\\desktop\\aicuflow\\my_data_cleaning_app\\datacleaning\\lib\\site-packages (from dtale) (2.18.2)\n",
      "Requirement already satisfied: dash-bootstrap-components<=1.7.1 in c:\\users\\sriva\\desktop\\aicuflow\\my_data_cleaning_app\\datacleaning\\lib\\site-packages (from dtale) (1.7.1)\n",
      "Requirement already satisfied: dash_daq<=0.5.0 in c:\\users\\sriva\\desktop\\aicuflow\\my_data_cleaning_app\\datacleaning\\lib\\site-packages (from dtale) (0.5.0)\n",
      "Requirement already satisfied: et_xmlfile in c:\\users\\sriva\\desktop\\aicuflow\\my_data_cleaning_app\\datacleaning\\lib\\site-packages (from dtale) (2.0.0)\n",
      "Requirement already satisfied: Flask in c:\\users\\sriva\\desktop\\aicuflow\\my_data_cleaning_app\\datacleaning\\lib\\site-packages (from dtale) (3.0.3)\n",
      "Requirement already satisfied: Flask-Compress in c:\\users\\sriva\\desktop\\aicuflow\\my_data_cleaning_app\\datacleaning\\lib\\site-packages (from dtale) (1.18)\n",
      "Requirement already satisfied: future>=0.14.0 in c:\\users\\sriva\\desktop\\aicuflow\\my_data_cleaning_app\\datacleaning\\lib\\site-packages (from dtale) (1.0.0)\n",
      "Requirement already satisfied: itsdangerous in c:\\users\\sriva\\desktop\\aicuflow\\my_data_cleaning_app\\datacleaning\\lib\\site-packages (from dtale) (2.2.0)\n",
      "Requirement already satisfied: kaleido in c:\\users\\sriva\\desktop\\aicuflow\\my_data_cleaning_app\\datacleaning\\lib\\site-packages (from dtale) (1.0.0)\n",
      "Requirement already satisfied: matplotlib in c:\\users\\sriva\\desktop\\aicuflow\\my_data_cleaning_app\\datacleaning\\lib\\site-packages (from dtale) (3.10.5)\n",
      "Requirement already satisfied: missingno in c:\\users\\sriva\\desktop\\aicuflow\\my_data_cleaning_app\\datacleaning\\lib\\site-packages (from dtale) (0.5.2)\n",
      "Requirement already satisfied: networkx in c:\\users\\sriva\\desktop\\aicuflow\\my_data_cleaning_app\\datacleaning\\lib\\site-packages (from dtale) (3.5)\n",
      "Requirement already satisfied: numpy in c:\\users\\sriva\\desktop\\aicuflow\\my_data_cleaning_app\\datacleaning\\lib\\site-packages (from dtale) (2.3.2)\n",
      "Requirement already satisfied: openpyxl!=3.2.0b1 in c:\\users\\sriva\\desktop\\aicuflow\\my_data_cleaning_app\\datacleaning\\lib\\site-packages (from dtale) (3.1.5)\n",
      "Requirement already satisfied: packaging in c:\\users\\sriva\\desktop\\aicuflow\\my_data_cleaning_app\\datacleaning\\lib\\site-packages (from dtale) (25.0)\n",
      "Requirement already satisfied: pandas in c:\\users\\sriva\\desktop\\aicuflow\\my_data_cleaning_app\\datacleaning\\lib\\site-packages (from dtale) (2.3.1)\n",
      "Requirement already satisfied: pkginfo in c:\\users\\sriva\\desktop\\aicuflow\\my_data_cleaning_app\\datacleaning\\lib\\site-packages (from dtale) (1.12.1.2)\n",
      "Requirement already satisfied: plotly in c:\\users\\sriva\\desktop\\aicuflow\\my_data_cleaning_app\\datacleaning\\lib\\site-packages (from dtale) (6.2.0)\n",
      "Requirement already satisfied: requests in c:\\users\\sriva\\desktop\\aicuflow\\my_data_cleaning_app\\datacleaning\\lib\\site-packages (from dtale) (2.32.4)\n",
      "Requirement already satisfied: scikit-learn in c:\\users\\sriva\\desktop\\aicuflow\\my_data_cleaning_app\\datacleaning\\lib\\site-packages (from dtale) (1.6.1)\n",
      "Requirement already satisfied: scipy!=1.12.0rc1,!=1.14.0,!=1.14.0rc1,!=1.14.0rc2,<1.16.0 in c:\\users\\sriva\\desktop\\aicuflow\\my_data_cleaning_app\\datacleaning\\lib\\site-packages (from dtale) (1.15.3)\n",
      "Requirement already satisfied: seaborn in c:\\users\\sriva\\desktop\\aicuflow\\my_data_cleaning_app\\datacleaning\\lib\\site-packages (from dtale) (0.13.2)\n",
      "Requirement already satisfied: squarify in c:\\users\\sriva\\desktop\\aicuflow\\my_data_cleaning_app\\datacleaning\\lib\\site-packages (from dtale) (0.4.4)\n",
      "Requirement already satisfied: statsmodels in c:\\users\\sriva\\desktop\\aicuflow\\my_data_cleaning_app\\datacleaning\\lib\\site-packages (from dtale) (0.14.5)\n",
      "Requirement already satisfied: strsimpy in c:\\users\\sriva\\desktop\\aicuflow\\my_data_cleaning_app\\datacleaning\\lib\\site-packages (from dtale) (0.2.1)\n",
      "Requirement already satisfied: six in c:\\users\\sriva\\desktop\\aicuflow\\my_data_cleaning_app\\datacleaning\\lib\\site-packages (from dtale) (1.17.0)\n",
      "Requirement already satisfied: werkzeug in c:\\users\\sriva\\desktop\\aicuflow\\my_data_cleaning_app\\datacleaning\\lib\\site-packages (from dtale) (3.0.6)\n",
      "Requirement already satisfied: xarray in c:\\users\\sriva\\desktop\\aicuflow\\my_data_cleaning_app\\datacleaning\\lib\\site-packages (from dtale) (2025.7.1)\n",
      "Requirement already satisfied: xlrd in c:\\users\\sriva\\desktop\\aicuflow\\my_data_cleaning_app\\datacleaning\\lib\\site-packages (from dtale) (2.0.2)\n",
      "Requirement already satisfied: dash-html-components==2.0.0 in c:\\users\\sriva\\desktop\\aicuflow\\my_data_cleaning_app\\datacleaning\\lib\\site-packages (from dash<=2.18.2->dtale) (2.0.0)\n",
      "Requirement already satisfied: dash-core-components==2.0.0 in c:\\users\\sriva\\desktop\\aicuflow\\my_data_cleaning_app\\datacleaning\\lib\\site-packages (from dash<=2.18.2->dtale) (2.0.0)\n",
      "Requirement already satisfied: dash-table==5.0.0 in c:\\users\\sriva\\desktop\\aicuflow\\my_data_cleaning_app\\datacleaning\\lib\\site-packages (from dash<=2.18.2->dtale) (5.0.0)\n",
      "Requirement already satisfied: importlib-metadata in c:\\users\\sriva\\desktop\\aicuflow\\my_data_cleaning_app\\datacleaning\\lib\\site-packages (from dash<=2.18.2->dtale) (8.7.0)\n",
      "Requirement already satisfied: typing-extensions>=4.1.1 in c:\\users\\sriva\\desktop\\aicuflow\\my_data_cleaning_app\\datacleaning\\lib\\site-packages (from dash<=2.18.2->dtale) (4.14.1)\n",
      "Requirement already satisfied: retrying in c:\\users\\sriva\\desktop\\aicuflow\\my_data_cleaning_app\\datacleaning\\lib\\site-packages (from dash<=2.18.2->dtale) (1.4.1)\n",
      "Requirement already satisfied: nest-asyncio in c:\\users\\sriva\\desktop\\aicuflow\\my_data_cleaning_app\\datacleaning\\lib\\site-packages (from dash<=2.18.2->dtale) (1.6.0)\n",
      "Requirement already satisfied: setuptools in c:\\users\\sriva\\desktop\\aicuflow\\my_data_cleaning_app\\datacleaning\\lib\\site-packages (from dash<=2.18.2->dtale) (80.9.0)\n",
      "Requirement already satisfied: Jinja2>=3.1.2 in c:\\users\\sriva\\desktop\\aicuflow\\my_data_cleaning_app\\datacleaning\\lib\\site-packages (from Flask->dtale) (3.1.6)\n",
      "Requirement already satisfied: click>=8.1.3 in c:\\users\\sriva\\desktop\\aicuflow\\my_data_cleaning_app\\datacleaning\\lib\\site-packages (from Flask->dtale) (8.1.8)\n",
      "Requirement already satisfied: blinker>=1.6.2 in c:\\users\\sriva\\desktop\\aicuflow\\my_data_cleaning_app\\datacleaning\\lib\\site-packages (from Flask->dtale) (1.9.0)\n",
      "Requirement already satisfied: MarkupSafe>=2.1.1 in c:\\users\\sriva\\desktop\\aicuflow\\my_data_cleaning_app\\datacleaning\\lib\\site-packages (from werkzeug->dtale) (3.0.2)\n",
      "Requirement already satisfied: soupsieve>1.2 in c:\\users\\sriva\\desktop\\aicuflow\\my_data_cleaning_app\\datacleaning\\lib\\site-packages (from beautifulsoup4!=4.13.0b2->dtale) (2.7)\n",
      "Requirement already satisfied: colorama in c:\\users\\sriva\\desktop\\aicuflow\\my_data_cleaning_app\\datacleaning\\lib\\site-packages (from click>=8.1.3->Flask->dtale) (0.4.6)\n",
      "Requirement already satisfied: narwhals>=1.15.1 in c:\\users\\sriva\\desktop\\aicuflow\\my_data_cleaning_app\\datacleaning\\lib\\site-packages (from plotly->dtale) (2.0.1)\n",
      "Requirement already satisfied: brotli in c:\\users\\sriva\\desktop\\aicuflow\\my_data_cleaning_app\\datacleaning\\lib\\site-packages (from Flask-Compress->dtale) (1.1.0)\n",
      "Requirement already satisfied: pyzstd in c:\\users\\sriva\\desktop\\aicuflow\\my_data_cleaning_app\\datacleaning\\lib\\site-packages (from Flask-Compress->dtale) (0.17.0)\n",
      "Requirement already satisfied: zipp>=3.20 in c:\\users\\sriva\\desktop\\aicuflow\\my_data_cleaning_app\\datacleaning\\lib\\site-packages (from importlib-metadata->dash<=2.18.2->dtale) (3.23.0)\n",
      "Requirement already satisfied: choreographer>=1.0.5 in c:\\users\\sriva\\desktop\\aicuflow\\my_data_cleaning_app\\datacleaning\\lib\\site-packages (from kaleido->dtale) (1.0.9)\n",
      "Requirement already satisfied: logistro>=1.0.8 in c:\\users\\sriva\\desktop\\aicuflow\\my_data_cleaning_app\\datacleaning\\lib\\site-packages (from kaleido->dtale) (1.1.0)\n",
      "Requirement already satisfied: orjson>=3.10.15 in c:\\users\\sriva\\desktop\\aicuflow\\my_data_cleaning_app\\datacleaning\\lib\\site-packages (from kaleido->dtale) (3.11.1)\n",
      "Requirement already satisfied: simplejson>=3.19.3 in c:\\users\\sriva\\desktop\\aicuflow\\my_data_cleaning_app\\datacleaning\\lib\\site-packages (from choreographer>=1.0.5->kaleido->dtale) (3.20.1)\n",
      "Requirement already satisfied: contourpy>=1.0.1 in c:\\users\\sriva\\desktop\\aicuflow\\my_data_cleaning_app\\datacleaning\\lib\\site-packages (from matplotlib->dtale) (1.3.3)\n",
      "Requirement already satisfied: fonttools>=4.22.0 in c:\\users\\sriva\\desktop\\aicuflow\\my_data_cleaning_app\\datacleaning\\lib\\site-packages (from matplotlib->dtale) (4.59.0)\n",
      "Requirement already satisfied: kiwisolver>=1.3.1 in c:\\users\\sriva\\desktop\\aicuflow\\my_data_cleaning_app\\datacleaning\\lib\\site-packages (from matplotlib->dtale) (1.4.8)\n",
      "Requirement already satisfied: pillow>=8 in c:\\users\\sriva\\desktop\\aicuflow\\my_data_cleaning_app\\datacleaning\\lib\\site-packages (from matplotlib->dtale) (11.3.0)\n",
      "Requirement already satisfied: pyparsing>=2.3.1 in c:\\users\\sriva\\desktop\\aicuflow\\my_data_cleaning_app\\datacleaning\\lib\\site-packages (from matplotlib->dtale) (3.2.3)\n",
      "Requirement already satisfied: python-dateutil>=2.7 in c:\\users\\sriva\\desktop\\aicuflow\\my_data_cleaning_app\\datacleaning\\lib\\site-packages (from matplotlib->dtale) (2.9.0.post0)\n",
      "Requirement already satisfied: pytz>=2020.1 in c:\\users\\sriva\\desktop\\aicuflow\\my_data_cleaning_app\\datacleaning\\lib\\site-packages (from pandas->dtale) (2025.2)\n",
      "Requirement already satisfied: tzdata>=2022.7 in c:\\users\\sriva\\desktop\\aicuflow\\my_data_cleaning_app\\datacleaning\\lib\\site-packages (from pandas->dtale) (2025.2)\n",
      "Requirement already satisfied: charset_normalizer<4,>=2 in c:\\users\\sriva\\desktop\\aicuflow\\my_data_cleaning_app\\datacleaning\\lib\\site-packages (from requests->dtale) (3.4.2)\n",
      "Requirement already satisfied: idna<4,>=2.5 in c:\\users\\sriva\\desktop\\aicuflow\\my_data_cleaning_app\\datacleaning\\lib\\site-packages (from requests->dtale) (3.10)\n",
      "Requirement already satisfied: urllib3<3,>=1.21.1 in c:\\users\\sriva\\desktop\\aicuflow\\my_data_cleaning_app\\datacleaning\\lib\\site-packages (from requests->dtale) (2.5.0)\n",
      "Requirement already satisfied: joblib>=1.2.0 in c:\\users\\sriva\\desktop\\aicuflow\\my_data_cleaning_app\\datacleaning\\lib\\site-packages (from scikit-learn->dtale) (1.5.1)\n",
      "Requirement already satisfied: threadpoolctl>=3.1.0 in c:\\users\\sriva\\desktop\\aicuflow\\my_data_cleaning_app\\datacleaning\\lib\\site-packages (from scikit-learn->dtale) (3.6.0)\n",
      "Requirement already satisfied: patsy>=0.5.6 in c:\\users\\sriva\\desktop\\aicuflow\\my_data_cleaning_app\\datacleaning\\lib\\site-packages (from statsmodels->dtale) (1.0.1)\n",
      "Note: you may need to restart the kernel to use updated packages.\n"
     ]
    },
    {
     "name": "stderr",
     "output_type": "stream",
     "text": [
      "\n",
      "[notice] A new release of pip is available: 25.1.1 -> 25.2\n",
      "[notice] To update, run: python.exe -m pip install --upgrade pip\n"
     ]
    }
   ],
   "source": [
    "pip install dtale"
   ]
  },
  {
   "cell_type": "code",
   "execution_count": 6,
   "id": "8506fe90-909a-4ae1-af59-4725ef89b028",
   "metadata": {
    "scrolled": true
   },
   "outputs": [
    {
     "data": {
      "text/html": [
       "\n",
       "        <iframe\n",
       "            width=\"100%\"\n",
       "            height=\"475\"\n",
       "            src=\"http://Vishesh:40000/dtale/iframe/1\"\n",
       "            frameborder=\"0\"\n",
       "            allowfullscreen\n",
       "            \n",
       "        ></iframe>\n",
       "        "
      ],
      "text/plain": [
       "<IPython.lib.display.IFrame at 0x25c68db92b0>"
      ]
     },
     "metadata": {},
     "output_type": "display_data"
    },
    {
     "data": {
      "text/plain": []
     },
     "execution_count": 6,
     "metadata": {},
     "output_type": "execute_result"
    }
   ],
   "source": [
    "import dtale\n",
    "import pandas as pd\n",
    "\n",
    "df = pd.read_csv(r\"C:\\Users\\sriva\\Downloads\\Multimodal_Data.csv\")\n",
    "dtale.show(df)\n"
   ]
  }
 ],
 "metadata": {
  "kernelspec": {
   "display_name": "Python 3 (ipykernel)",
   "language": "python",
   "name": "python3"
  },
  "language_info": {
   "codemirror_mode": {
    "name": "ipython",
    "version": 3
   },
   "file_extension": ".py",
   "mimetype": "text/x-python",
   "name": "python",
   "nbconvert_exporter": "python",
   "pygments_lexer": "ipython3",
   "version": "3.13.5"
  }
 },
 "nbformat": 4,
 "nbformat_minor": 5
}
